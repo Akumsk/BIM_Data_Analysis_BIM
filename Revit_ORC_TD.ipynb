import pandas as pd
import numpy as np
import matplotlib
import matplotlib.pyplot as plt
import seaborn as sns
import pathlib
import datetime
import xlrd
from os import listdir
from os.path import isfile, join

pathfolder = r"\\XXX.XXX.XXX.XX\XXXXX\"
# Установка функций - ПУТЬ К ФАЙЛУ ЛИСТ В ЕКСЕЛЬ ПО КАТЕГОРИИ

pr = 'ORC'
nb = '1'
ds = 'AR'
cat = 'door'

def take_path(pr, nb, ds, block = ''):
    global partname5
    partname5 = ""
    
#pr -project (ORC or ORC), nb - number of building (1, 2, 7.4 ...), ds - discipline (AR, KR, OV, VK ...), cat - category (door, wall)
    if (pr == "ORC"):
        sourcefolder = r"\\XX.XXX.XXX.XX\XXXXX\"
        partname1 = r"\ORC_T_III_"        
        partname2 = r"_STH_BIM_"
        partname4 = r"_Schedules"
        
        if (nb == '1.1'):
            sfbuilding = r"1.1_МО Склад_3 этап"
            partname5 = r"(ЗМТ)"
        elif (nb == '1.2'):
            sfbuilding = r"1.2_МО Склад_2 этап"
            partname5 = r"(ЗМТ)"
            partname1 = r"\ORC_P_II_"
        elif (nb == '1.3'):
            sfbuilding = r"1.3_КПП 2_3 этап"
            partname5 = r"(ВГЗП)"
            partname1 = r"\ORC_P_II_"
        elif (nb == '1.4'):
            sfbuilding = r"1.4_КПП 3_3 этап"
            partname5 = r"(ВГЗП)" 
        elif (nb == '1.5'):
            sfbuilding = r"1.5_КПП 4_3 этап"
            partname5 = r"(ВГЗП)"
        elif (nb == '1.6'):
            sfbuilding = r"1.6_КПП 5_4 этап"
            partname5 = r"(ВГЗП)"
        elif (nb == '2.1'):
            sfbuilding = r"2.1_КО Склад_3 этап"
            partname5 = r"(ЗМТ)"
        elif (nb == '3-1'):
            sfbuilding = r"3.1_КО Склад_2 этап"  
            partname5 = r"(ЗМТ)"
            partname1 = r"\ORC_T_II_"
        elif (nb == '4.1'):
            sfbuilding = r"4.1_Навес_3 этап"  
            partname5 = r"(ЗМТ)"
        elif (nb == '4.2'):
            sfbuilding = r"4.2_Навес_2 этап"  
            partname5 = r"(ЗМТ)"     
            partname1 = r"\ORC_P_II_"
        elif (nb == '7'):
            sfbuilding = r"7_Автомойка_3 этап"  
            partname5 = r"(СЗТС)"   
        elif (nb == '8'):
            sfbuilding = r"8_Адм.блок_1 этап" 
            partname5 = r"(ВГЗП)"
        elif (nb == '9'):
            sfbuilding = r"9_Магазин с аптекой_3 этап"
            partname5 = r"(СЗТС)"
        elif (nb == '10'):
            sfbuilding = r"10_Магазин  с аптекой"
            partname5 = r"(СЗТС)"            
        elif (nb == '11'):
            sfbuilding = r"11_Гостница с кафе_2 этап"
            partname5 = '(ВГЗП)'
        elif (nb == '12'):
            sfbuilding = r"12 Гостиница №1_3 этап"
            partname5 = '(ВГЗП)'
        elif (nb == '13.1'):
            sfbuilding = r"13.1_Гостиница для персонала_2 этап"
            partname5 = '(ВГЗП)'
            partname1 = r"\ORC_P_II_"
        elif (nb == '13.2'):
            sfbuilding = r"13.2_Гостиница для персонала_2 этап"
            partname5 = '(ВГЗП)' 
            partname1 = r"\ORC_P_II_"
        elif (nb == '13.3'):
            sfbuilding = r"13.3_Гостиница для персонала_2 этап"
            partname5 = '(ВГЗП)'   
            partname1 = r"\ORC_P_II_"
        elif (nb == '14'):
            sfbuilding = r"14_Столовая_1 этап"
            partname5 = '(ЗМТ)'
        elif (nb == '15'):
            sfbuilding = r"15_Столовая_2 этап"
            partname5 = '(ЗМТ)'  
            partname1 = r"\ORC_P_II_"
        elif (nb == '16'):
            sfbuilding = r"16_Котельная_1 этап"
            partname5 = '(ВГЗП)'
        elif (nb == '17.1'):
            sfbuilding = r"17-1 Адм здание с КПП № 6 и складом хранения особо ценных грузов.  Блок 1_3 этап"
            partname5 = '(ЗТК)'
        elif (nb == '17.2'):
            sfbuilding = r"17-2 Адм здание с КПП № 6 и складом хранения особо ценных грузов.  Блок 2_5 этап"
            partname5 = '(ЗТК)' 
        elif (nb == '25'):
            sfbuilding = r"25 Пункт временного накопления вторсырья_7 этап"
            partname5 = '(ВГЗП)'             
        elif (nb == '27'):
            sfbuilding = r"27 Гараж_7 этап"
            partname5 = '(ВГЗП)'
        elif (nb == '33'):
            sfbuilding = r"33 Автомойка_6 этап"
            partname5 = '(СЗТС)' 
        elif (nb == '35'):
            sfbuilding = r"35 Навес для ПГМ_7 этап"
            partname5 = '(ВГЗП)'             

        if (ds == 'AR'):
            partname3 = r"AR_Архитектура"
            category = 'AR'
        elif (ds == 'KR'):
            partname3 = r"KR_Конструкции"
            category = 'KR'
        elif (ds == 'VENT'):
            partname3 = r"IOS4-1_Вентиляц"
            if (nb == '1.2'):
                partname3 = r"IOS4-1_Вент"
            category = 'VENT'
        elif (ds == 'OTOP'):
            partname3 = r"IOS4-2_Отоплен"
            category = 'OTOP'
        elif (ds == 'COND'):
            partname3 = r"IOS4-3_Кондиц"
            category = 'COND'
        elif (ds == 'TM'):
            partname3 = r"IOS4-4_ТМ"
            category = 'TM'        
        elif (ds == 'OV'):
            partname3 = r"IOS4_ОВиК"
            category = 'COND'            
        elif (ds == 'VK'):
            partname3 = r"IOS23_ВК"
            category = 'VK'  
        elif (ds == 'PT'):
            partname3 = r"TB-4_ПТ"
            category = 'PT'  
        elif (ds == 'PDV'):
            partname3 = r"TB-3_ПДВЗ"
            category = 'PDV' 
        elif (ds == 'PS'):
            partname3 = r"TB-1_ПС"
            category = 'PS'
        elif (ds == 'SOUE'):
            partname3 = r"TB-2_СОУЭ"
            category = 'SOUE'            
        elif (ds == 'TX'):
            partname3 = r"IOS7_ТХ"
            category = 'TX'   
        elif (ds == 'SS'):
            partname3 = r"IOS5_СС"
            category = 'SS' 
        elif (ds == 'AK'):
            partname3 = r"IOS5_АК"
            category = 'AK'        
        elif (ds == 'AKK'):
            partname3 = r"IOS5_АК-К"
            category = 'AK-kotelnaya'              
        elif (ds == 'EOM'):
            partname3 = r"IOS1_ЭОМ"
            category = 'EOM'
        elif (ds == 'HS'):
            partname3 = r"IOS4-5_ХС"
            category = 'HS'
        elif (ds == 'GS'):
            partname3 = r"IOS6_ГС"
            category = 'GS'
        elif (ds == 'AGS'):
            partname3 = r"IOS6_АГС-К"
            category = 'AGS'     
        elif (ds == 'PBK'):
            partname3 = r"PB_ПБ-К"
            category = 'PB-kotelnaya'  

        if (ds == 'AR' and  nb == '1.3'):
            partname3 = r"AR_Архитект"
            category = 'AR'
            partname1 = r"\ORC_P_II_"
            
    else:
        sf = 'Undefined'

    pathfile = sourcefolder + r"/" + sfbuilding + partname1 + nb + partname2 + partname3 + partname5 + partname4 + r".xlsx"
    return pathfile
